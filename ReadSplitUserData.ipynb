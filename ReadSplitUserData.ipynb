{
 "cells": [
  {
   "cell_type": "code",
   "execution_count": 23,
   "metadata": {},
   "outputs": [],
   "source": [
    "import pandas as pd\n",
    "import numpy as np\n",
    "from sklearn.model_selection import train_test_split"
   ]
  },
  {
   "cell_type": "code",
   "execution_count": 17,
   "metadata": {},
   "outputs": [],
   "source": [
    "df_tradicionalbot_us = pd.read_csv('datasets_full/traditional_spambots_1/users.csv')"
   ]
  },
  {
   "cell_type": "code",
   "execution_count": 18,
   "metadata": {},
   "outputs": [
    {
     "output_type": "execute_result",
     "data": {
      "text/plain": "Index(['id', 'name', 'screen_name', 'statuses_count', 'followers_count',\n       'friends_count', 'favourites_count', 'listed_count', 'url', 'lang',\n       'time_zone', 'location', 'default_profile', 'default_profile_image',\n       'geo_enabled', 'profile_image_url', 'profile_banner_url',\n       'profile_use_background_image', 'profile_background_image_url_https',\n       'profile_text_color', 'profile_image_url_https',\n       'profile_sidebar_border_color', 'profile_background_tile',\n       'profile_sidebar_fill_color', 'profile_background_image_url',\n       'profile_background_color', 'profile_link_color', 'utc_offset',\n       'is_translator', 'follow_request_sent', 'protected', 'verified',\n       'notifications', 'description', 'contributors_enabled', 'following',\n       'created_at', 'timestamp', 'crawled_at', 'updated'],\n      dtype='object')"
     },
     "metadata": {},
     "execution_count": 18
    }
   ],
   "source": [
    "df_tradicionalbot_us.columns"
   ]
  },
  {
   "cell_type": "code",
   "execution_count": 20,
   "metadata": {},
   "outputs": [],
   "source": [
    "df_genuine_us = pd.read_csv('datasets_full/genuine_accounts.csv/users.csv')"
   ]
  },
  {
   "cell_type": "code",
   "execution_count": 21,
   "metadata": {},
   "outputs": [
    {
     "output_type": "execute_result",
     "data": {
      "text/plain": "Index(['id', 'name', 'screen_name', 'statuses_count', 'followers_count',\n       'friends_count', 'favourites_count', 'listed_count', 'url', 'lang',\n       'time_zone', 'location', 'default_profile', 'default_profile_image',\n       'geo_enabled', 'profile_image_url', 'profile_banner_url',\n       'profile_use_background_image', 'profile_background_image_url_https',\n       'profile_text_color', 'profile_image_url_https',\n       'profile_sidebar_border_color', 'profile_background_tile',\n       'profile_sidebar_fill_color', 'profile_background_image_url',\n       'profile_background_color', 'profile_link_color', 'utc_offset',\n       'is_translator', 'follow_request_sent', 'protected', 'verified',\n       'notifications', 'description', 'contributors_enabled', 'following',\n       'created_at', 'timestamp', 'crawled_at', 'updated', 'test_set_1',\n       'test_set_2'],\n      dtype='object')"
     },
     "metadata": {},
     "execution_count": 21
    }
   ],
   "source": [
    "df_genuine_us.columns"
   ]
  },
  {
   "cell_type": "code",
   "execution_count": 34,
   "metadata": {},
   "outputs": [],
   "source": [
    "df_genuine_us = df_genuine_us.drop(['test_set_1','test_set_2'], axis=1)"
   ]
  },
  {
   "cell_type": "code",
   "execution_count": 37,
   "metadata": {},
   "outputs": [],
   "source": [
    "X_train_b, X_test_b, y_train_b, y_test_b = train_test_split(df_tradicionalbot_us, np.ones(df_tradicionalbot_us['id'].unique().shape[0]), random_state=42)"
   ]
  },
  {
   "cell_type": "code",
   "execution_count": 38,
   "metadata": {},
   "outputs": [],
   "source": [
    "X_train_g, X_test_g, y_train_g, y_test_g = train_test_split(df_genuine_us, np.zeros(df_genuine_us['id'].unique().shape[0]), random_state=42)"
   ]
  },
  {
   "cell_type": "code",
   "execution_count": 51,
   "metadata": {},
   "outputs": [],
   "source": [
    "X_train = pd.concat([X_train_b, X_train_g])\n",
    "y_train = np.hstack([y_train_b, y_train_g])\n",
    "\n",
    "X_test = pd.concat([X_test_b, X_test_g])\n",
    "y_test = np.hstack([y_test_b, y_test_g])"
   ]
  },
  {
   "cell_type": "code",
   "execution_count": null,
   "metadata": {},
   "outputs": [],
   "source": []
  }
 ],
 "metadata": {
  "kernelspec": {
   "display_name": "Python 3",
   "language": "python",
   "name": "python3"
  },
  "language_info": {
   "codemirror_mode": {
    "name": "ipython",
    "version": 3
   },
   "file_extension": ".py",
   "mimetype": "text/x-python",
   "name": "python",
   "nbconvert_exporter": "python",
   "pygments_lexer": "ipython3",
   "version": "3.7.1-final"
  }
 },
 "nbformat": 4,
 "nbformat_minor": 2
}